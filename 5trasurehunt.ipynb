{
 "cells": [
  {
   "cell_type": "code",
   "execution_count": 8,
   "metadata": {},
   "outputs": [
    {
     "name": "stdout",
     "output_type": "stream",
     "text": [
      "                                    __\n",
      "                     /\\    .-\" /\n",
      "                    /  ; .'  .' \n",
      "                   :   :/  .'   \n",
      "                    \\  ;-.'     \n",
      "       .--\"\"\"\"--..__/     `.    \n",
      "     .'           .'    `o  \\   \n",
      "    /                    `   ;  \n",
      "   :                  \\      :  \n",
      " .-;        -.         `.__.-'  \n",
      ":  ;          \\     ,   ;       \n",
      "'._:           ;   :   (        \n",
      "    \\/  .__    ;    \\   `-.     \n",
      " bug ;     \"-,/_..--\"`-..__)    \n",
      "     '\"\"--.._:    \n",
      "Welcome to Treaure Island. Your mission is to find the treasure\n",
      "Your mission is to find the treasure\n",
      "Game over\n"
     ]
    }
   ],
   "source": [
    "print('''                                    __\n",
    "                     /\\    .-\" /\n",
    "                    /  ; .'  .' \n",
    "                   :   :/  .'   \n",
    "                    \\  ;-.'     \n",
    "       .--\"\"\"\"--..__/     `.    \n",
    "     .'           .'    `o  \\   \n",
    "    /                    `   ;  \n",
    "   :                  \\      :  \n",
    " .-;        -.         `.__.-'  \n",
    ":  ;          \\     ,   ;       \n",
    "'._:           ;   :   (        \n",
    "    \\/  .__    ;    \\   `-.     \n",
    "   ;     \"-,/_..--\"`-..__)    \n",
    "     '\"\"--.._:    ''')\n",
    "print(\"Welcome to Treaure Island. Your mission is to find the treasure\")\n",
    "print(\"Your mission is to find the treasure\")\n",
    "direction=input(\"left or right\")\n",
    "dir=direction.lower()\n",
    "if dir==\"right\":\n",
    "    \n",
    "    print(\"Next round\")\n",
    "    quest=input(\"swim or wait\")\n",
    "    q=quest.lower()\n",
    "    if q==\"wait\":\n",
    "        \n",
    "        print(\"Congratulations🤩, you recahed the second round\")\n",
    "        door=input(\"Which door?\")\n",
    "        do=door.lower()\n",
    "        if do==\"yellow\":\n",
    "\n",
    "            print(\"You won the game\")\n",
    "        else:\n",
    "            print(\"Gameover\")\n",
    "    else:\n",
    "        print(\"gameover\")\n",
    "\n",
    "else:\n",
    "    print(\"Game over\")\n",
    "\n",
    "\n",
    "    "
   ]
  },
  {
   "cell_type": "code",
   "execution_count": null,
   "metadata": {},
   "outputs": [],
   "source": []
  }
 ],
 "metadata": {
  "kernelspec": {
   "display_name": "Python 3",
   "language": "python",
   "name": "python3"
  },
  "language_info": {
   "codemirror_mode": {
    "name": "ipython",
    "version": 3
   },
   "file_extension": ".py",
   "mimetype": "text/x-python",
   "name": "python",
   "nbconvert_exporter": "python",
   "pygments_lexer": "ipython3",
   "version": "3.11.5"
  }
 },
 "nbformat": 4,
 "nbformat_minor": 2
}
