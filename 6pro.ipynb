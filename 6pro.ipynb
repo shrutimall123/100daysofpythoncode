{
 "cells": [
  {
   "cell_type": "markdown",
   "metadata": {},
   "source": [
    "### Randomisation and python list\n",
    "\n"
   ]
  },
  {
   "cell_type": "code",
   "execution_count": 1,
   "metadata": {},
   "outputs": [
    {
     "name": "stdout",
     "output_type": "stream",
     "text": [
      "5\n"
     ]
    }
   ],
   "source": [
    "import  random\n",
    "random_int=random.randint(1,11)\n",
    "print(random_int)\n",
    "\n"
   ]
  },
  {
   "cell_type": "code",
   "execution_count": 4,
   "metadata": {},
   "outputs": [
    {
     "name": "stdout",
     "output_type": "stream",
     "text": [
      "0.5508020055134126\n"
     ]
    }
   ],
   "source": [
    "import  random\n",
    "random_float=random.random()\n",
    "print(random_float)"
   ]
  },
  {
   "cell_type": "code",
   "execution_count": 5,
   "metadata": {},
   "outputs": [
    {
     "name": "stdout",
     "output_type": "stream",
     "text": [
      "States starting with 'A': ['Alabama', 'Alaska', 'Arizona', 'Arkansas']\n",
      "States starting with 'C': ['California', 'Colorado', 'Connecticut']\n",
      "States starting with 'D': ['Delaware']\n",
      "States starting with 'F': ['Florida']\n",
      "States starting with 'G': ['Georgia']\n",
      "States starting with 'H': ['Hawaii']\n",
      "States starting with 'I': ['Idaho', 'Illinois', 'Indiana', 'Iowa']\n",
      "States starting with 'K': ['Kansas', 'Kentucky']\n",
      "States starting with 'L': ['Louisiana']\n",
      "States starting with 'M': ['Maine', 'Maryland', 'Massachusetts', 'Michigan', 'Minnesota', 'Mississippi', 'Missouri', 'Montana']\n",
      "States starting with 'N': ['Nebraska', 'Nevada', 'New Hampshire', 'New Jersey', 'New Mexico', 'New York', 'North Carolina', 'North Dakota']\n",
      "States starting with 'O': ['Ohio', 'Oklahoma', 'Oregon']\n",
      "States starting with 'P': ['Pennsylvania']\n",
      "States starting with 'R': ['Rhode Island']\n",
      "States starting with 'S': ['South Carolina', 'South Dakota']\n",
      "States starting with 'T': ['Tennessee', 'Texas']\n",
      "States starting with 'U': ['Utah']\n",
      "States starting with 'V': ['Vermont', 'Virginia']\n",
      "States starting with 'W': ['Washington', 'West Virginia', 'Wisconsin', 'Wyoming']\n"
     ]
    }
   ],
   "source": [
    "# Original list of U.S. states\n",
    "usa_states = [\n",
    "    'Alabama', 'Alaska', 'Arizona', 'Arkansas', 'California', 'Colorado',\n",
    "    'Connecticut', 'Delaware', 'Florida', 'Georgia', 'Hawaii', 'Idaho',\n",
    "    'Illinois', 'Indiana', 'Iowa', 'Kansas', 'Kentucky', 'Louisiana', 'Maine',\n",
    "    'Maryland', 'Massachusetts', 'Michigan', 'Minnesota', 'Mississippi',\n",
    "    'Missouri', 'Montana', 'Nebraska', 'Nevada', 'New Hampshire', 'New Jersey',\n",
    "    'New Mexico', 'New York', 'North Carolina', 'North Dakota', 'Ohio', 'Oklahoma',\n",
    "    'Oregon', 'Pennsylvania', 'Rhode Island', 'South Carolina', 'South Dakota',\n",
    "    'Tennessee', 'Texas', 'Utah', 'Vermont', 'Virginia', 'Washington',\n",
    "    'West Virginia', 'Wisconsin', 'Wyoming'\n",
    "]\n",
    "\n",
    "# Create dictionaries to store lists for each letter\n",
    "state_lists = {}\n",
    "\n",
    "# Group states by the first letter\n",
    "for state in usa_states:\n",
    "    first_letter = state[0].upper()\n",
    "    if first_letter not in state_lists:\n",
    "        state_lists[first_letter] = [state]\n",
    "    else:\n",
    "        state_lists[first_letter].append(state)\n",
    "\n",
    "\n",
    "for letter, states in state_lists.items():\n",
    "    print(f\"States starting with '{letter}': {states}\")\n"
   ]
  },
  {
   "cell_type": "code",
   "execution_count": 6,
   "metadata": {},
   "outputs": [
    {
     "name": "stdout",
     "output_type": "stream",
     "text": [
      "Riya  Will pay the bill today\n"
     ]
    }
   ],
   "source": [
    "## Who will pay the bill using radom module\n",
    "\n",
    "list1=[\"Shruti\",\"Amrutha\",\"Devika\",\"Anushya\",\"Riya\"]\n",
    "random_one=random.choice(list1)\n",
    "print(random_one,\" Will pay the bill today\")"
   ]
  },
  {
   "cell_type": "code",
   "execution_count": null,
   "metadata": {},
   "outputs": [],
   "source": []
  }
 ],
 "metadata": {
  "kernelspec": {
   "display_name": "Python 3",
   "language": "python",
   "name": "python3"
  },
  "language_info": {
   "codemirror_mode": {
    "name": "ipython",
    "version": 3
   },
   "file_extension": ".py",
   "mimetype": "text/x-python",
   "name": "python",
   "nbconvert_exporter": "python",
   "pygments_lexer": "ipython3",
   "version": "3.12.1"
  }
 },
 "nbformat": 4,
 "nbformat_minor": 2
}
