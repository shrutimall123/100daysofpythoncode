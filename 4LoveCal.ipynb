{
 "cells": [
  {
   "cell_type": "code",
   "execution_count": null,
   "metadata": {},
   "outputs": [
    {
     "name": "stdout",
     "output_type": "stream",
     "text": [
      "Your love score is  55\n"
     ]
    }
   ],
   "source": [
    "name1=input(\"Enter the name\")\n",
    "name2=input(\"Enter the name\")\n",
    "combines_name=name1+name2\n",
    "lowername=combines_name.lower()\n",
    "t=lowername.count(\"t\")\n",
    "r=lowername.count(\"r\")\n",
    "u=lowername.count(\"u\")\n",
    "e=lowername.count(\"e\")\n",
    "first_digit=t+r+u+e\n",
    "\n",
    "\n",
    "\n",
    "l=lowername.count(\"l\")\n",
    "o=lowername.count(\"o\")\n",
    "v=lowername.count(\"v\")\n",
    "e=lowername.count(\"e\")\n",
    "\n",
    "second_digit=l+o+v+e\n",
    "\n",
    "print(\"Your love score is \", str(first_digit)+str(second_digit))\n"
   ]
  },
  {
   "cell_type": "code",
   "execution_count": 2,
   "metadata": {},
   "outputs": [
    {
     "name": "stdout",
     "output_type": "stream",
     "text": [
      "[1 3 5 7]\n"
     ]
    }
   ],
   "source": [
    "import numpy as np\n",
    "arr = np.array([1,2,3,4,5,6,7])\n",
    "print(arr[::2])  "
   ]
  },
  {
   "cell_type": "code",
   "execution_count": 3,
   "metadata": {},
   "outputs": [
    {
     "name": "stdout",
     "output_type": "stream",
     "text": [
      "[1 3 6]\n"
     ]
    }
   ],
   "source": [
    "arr = np.array([1,2,3])\n",
    "print(np.cumsum(arr))"
   ]
  },
  {
   "cell_type": "code",
   "execution_count": null,
   "metadata": {},
   "outputs": [],
   "source": []
  }
 ],
 "metadata": {
  "kernelspec": {
   "display_name": "Python 3",
   "language": "python",
   "name": "python3"
  },
  "language_info": {
   "codemirror_mode": {
    "name": "ipython",
    "version": 3
   },
   "file_extension": ".py",
   "mimetype": "text/x-python",
   "name": "python",
   "nbconvert_exporter": "python",
   "pygments_lexer": "ipython3",
   "version": "3.11.5"
  }
 },
 "nbformat": 4,
 "nbformat_minor": 2
}
